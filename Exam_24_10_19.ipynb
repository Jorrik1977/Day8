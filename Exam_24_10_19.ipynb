{
 "cells": [
  {
   "cell_type": "markdown",
   "metadata": {},
   "source": [
    "# 1. Linear regression is a supervised learning algorithm"
   ]
  },
  {
   "cell_type": "markdown",
   "metadata": {},
   "source": [
    "True"
   ]
  },
  {
   "cell_type": "markdown",
   "metadata": {},
   "source": [
    "# 2. Which method do we use to find the best fit for data in linear regression\n",
    "a) least squared error\n",
    "b) maximum likelyhood\n",
    "c) logarithmic loss\n",
    "d) both a and b"
   ]
  },
  {
   "cell_type": "code",
   "execution_count": null,
   "metadata": {},
   "outputs": [],
   "source": [
    "a) least squared error"
   ]
  },
  {
   "cell_type": "markdown",
   "metadata": {},
   "source": [
    "# 3. Which of the following is true for residuals\n",
    "\n",
    "a) lower is better\n",
    "b) higher is better\n",
    "c) a or b depending\n",
    "d) none of these"
   ]
  },
  {
   "cell_type": "markdown",
   "metadata": {},
   "source": [
    "a) lower is better"
   ]
  },
  {
   "cell_type": "markdown",
   "metadata": {},
   "source": [
    "# 4. what will happen when you fit degree 2 polynomial to linear regression"
   ]
  },
  {
   "cell_type": "code",
   "execution_count": null,
   "metadata": {},
   "outputs": [],
   "source": [
    "its a special case of multivariat linear regreesion"
   ]
  },
  {
   "cell_type": "markdown",
   "metadata": {},
   "source": [
    "# 5. Is it possible to design a linear regression algorithm using neural networks"
   ]
  },
  {
   "cell_type": "code",
   "execution_count": 3,
   "metadata": {},
   "outputs": [
    {
     "data": {
      "text/plain": [
       "True"
      ]
     },
     "execution_count": 3,
     "metadata": {},
     "output_type": "execute_result"
    }
   ],
   "source": [
    "True"
   ]
  },
  {
   "cell_type": "code",
   "execution_count": null,
   "metadata": {},
   "outputs": [],
   "source": []
  },
  {
   "cell_type": "markdown",
   "metadata": {},
   "source": [
    "# 6. which of the following evalution matrix can be used to evaluate a model while modelling a continous output value\n",
    "a) AUC-ROC\n",
    "b) Accurracy\n",
    "c) Logloss\n",
    "d) mean square error"
   ]
  },
  {
   "cell_type": "code",
   "execution_count": null,
   "metadata": {},
   "outputs": [],
   "source": [
    "b)Accuracy"
   ]
  },
  {
   "cell_type": "markdown",
   "metadata": {},
   "source": [
    "# 7. Which of the following statements os true about Outliers in linear regression?\n",
    "a)LR is sensitive to them\n",
    "b)it is not sensitive\n",
    "c) can´t say\n",
    "d) none of those"
   ]
  },
  {
   "cell_type": "markdown",
   "metadata": {},
   "source": [
    "a) it is sensitive"
   ]
  },
  {
   "cell_type": "markdown",
   "metadata": {},
   "source": [
    "# 8. Suppose you plotted a scatter plot between residuals an predicted values in linear reg and you found there is a relationship between them. What does that mean?\n",
    "a) since there is relationship model not good\n",
    "b) model is good\n",
    "c) can´t say\n",
    "d) none of these"
   ]
  },
  {
   "cell_type": "markdown",
   "metadata": {},
   "source": [
    "b) model is good"
   ]
  },
  {
   "cell_type": "markdown",
   "metadata": {},
   "source": [
    "# 9. Suppose we have \"n\" independent variables (x1,x2,x3...xn) and dependent variable is y imagine applying LR by fitting the best fit line using least squared error on this data? We found correlation coeficient for one of its variable x1 is 0.95\n",
    "a) weak relationship\n",
    "b) strong relationship\n",
    "c) neutral\n",
    "d) correlation cannot judge relationship"
   ]
  },
  {
   "cell_type": "markdown",
   "metadata": {},
   "source": [
    "b) strong relationship because it must be very near to the best fit line"
   ]
  },
  {
   "cell_type": "markdown",
   "metadata": {},
   "source": [
    "# 10. Suppose Data set D1 and you design a LR Model of degree 3 polynomial and we found that the traning and testing error is zero, it perfectly fits the data. What will happen when we fit a degree 4 polynomial in LR\n",
    "a) high chances overfit\n",
    "b) underfit\n",
    "c) cant say\n",
    "d) none of these"
   ]
  },
  {
   "cell_type": "code",
   "execution_count": null,
   "metadata": {},
   "outputs": [],
   "source": [
    "d)"
   ]
  }
 ],
 "metadata": {
  "kernelspec": {
   "display_name": "Python [conda env:nf] *",
   "language": "python",
   "name": "conda-env-nf-py"
  },
  "language_info": {
   "codemirror_mode": {
    "name": "ipython",
    "version": 3
   },
   "file_extension": ".py",
   "mimetype": "text/x-python",
   "name": "python",
   "nbconvert_exporter": "python",
   "pygments_lexer": "ipython3",
   "version": "3.6.6"
  }
 },
 "nbformat": 4,
 "nbformat_minor": 2
}
